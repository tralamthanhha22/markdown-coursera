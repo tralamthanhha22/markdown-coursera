{
  "nbformat": 4,
  "nbformat_minor": 0,
  "metadata": {
    "colab": {
      "provenance": []
    },
    "kernelspec": {
      "name": "python3",
      "display_name": "Python 3"
    },
    "language_info": {
      "name": "python"
    }
  },
  "cells": [
    {
      "cell_type": "markdown",
      "source": [
        "# tile"
      ],
      "metadata": {
        "id": "bnqFBMQc1IsM"
      }
    },
    {
      "cell_type": "markdown",
      "source": [
        "## introduce: hi this is my assigment\n"
      ],
      "metadata": {
        "id": "rhO8LE0o1NnT"
      }
    },
    {
      "cell_type": "markdown",
      "source": [
        "\n",
        "\n",
        "*   Python\n",
        "\n",
        "*  R\n",
        "\n",
        "*  SQL\n",
        "\n",
        "*  Scala\n",
        "\n",
        "*  Java\n",
        "\n",
        "*  C++\n",
        "\n",
        "*  Julia\n",
        "\n",
        "*  JavaScript\n",
        "\n",
        "*  PHP\n",
        "\n",
        "*  Go\n",
        "\n",
        "*  Ruby\n",
        "\n",
        "*  Visual Basic\n",
        "\n"
      ],
      "metadata": {
        "id": "Rg5Z2K_61RRJ"
      }
    },
    {
      "cell_type": "markdown",
      "source": [
        "| Data science tools |\n",
        "|---|\n",
        "| TableAU |\n",
        "| Pandas | Pandas |\n",
        "| Numpy | Matplotlib |\n",
        "| Seaborn | Scikit-learn |\n",
        "| Keras |  |\n",
        "| TensorFlow |  |\n",
        "| PyTorch |  |\n",
        "| Apache Spark |  |\n",
        "| Vegas |  |\n",
        "| Big DL |  |\n",
        "| Ggplot2 |  |"
      ],
      "metadata": {
        "id": "9_gui61s1ceS"
      }
    },
    {
      "cell_type": "code",
      "source": [
        "def minutes_to_hours(minutes):\n",
        "  \"\"\"Converts minutes to hours.\n",
        "\n",
        "  Args:\n",
        "    minutes: The number of minutes to convert.\n",
        "\n",
        "  Returns:\n",
        "    The equivalent number of hours.\n",
        "  \"\"\"\n",
        "  return minutes / 60\n",
        "\n",
        "# Example usage\n",
        "minutes = 120\n",
        "hours = minutes_to_hours(minutes)\n",
        "print(f\"{minutes} minutes is equal to {hours} hours\")"
      ],
      "metadata": {
        "id": "Ro0gvL2y6rsl"
      },
      "execution_count": null,
      "outputs": []
    },
    {
      "cell_type": "code",
      "source": [
        "result_multiplication = 4 * 6\n",
        "print(f\"4 * 6 = {result_multiplication}\")\n",
        "\n",
        "# Addition\n",
        "result_addition = 2 + 3\n",
        "print(f\"2 + 3 = {result_addition}\")"
      ],
      "metadata": {
        "id": "mHsmHV2L6sT5"
      },
      "execution_count": null,
      "outputs": []
    },
    {
      "cell_type": "markdown",
      "source": [
        "Objectives\n",
        "\n",
        "1. Introduce programming languages for data science (R, Python).\n",
        "2. List data science tools (e.g., Tableau, Pandas).\n",
        "3. Demonstrate arithmetic expressions:\n",
        "   - Addition\n",
        "   - Subtraction\n",
        "   - Multiplication\n",
        "   - Division\n",
        "   - Integer Division (floor division)\n",
        "   - Modulo (remainder)\n",
        "   - Exponentiation\n",
        "4. Implement a function to convert minutes to hours.\n",
        "5. Demonstrate function usage and print results."
      ],
      "metadata": {
        "id": "GyNeOuTJ7rfi"
      }
    },
    {
      "cell_type": "markdown",
      "source": [
        "## Thanh Ha"
      ],
      "metadata": {
        "id": "wLNc46cz7u2V"
      }
    }
  ]
}